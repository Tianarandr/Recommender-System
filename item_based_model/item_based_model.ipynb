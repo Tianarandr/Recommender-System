{
 "cells": [
  {
   "cell_type": "code",
   "execution_count": 1,
   "metadata": {},
   "outputs": [
    {
     "ename": "ModuleNotFoundError",
     "evalue": "No module named 'pandas'",
     "output_type": "error",
     "traceback": [
      "\u001b[0;31m---------------------------------------------------------------------------\u001b[0m",
      "\u001b[0;31mModuleNotFoundError\u001b[0m                       Traceback (most recent call last)",
      "\u001b[0;32m/var/folders/bw/s1dvlrbn68z8hdbb3s0wb5r80000gn/T/ipykernel_3487/1896788311.py\u001b[0m in \u001b[0;36m<module>\u001b[0;34m\u001b[0m\n\u001b[0;32m----> 1\u001b[0;31m \u001b[0;32mimport\u001b[0m \u001b[0mpandas\u001b[0m \u001b[0;32mas\u001b[0m \u001b[0mpd\u001b[0m\u001b[0;34m\u001b[0m\u001b[0;34m\u001b[0m\u001b[0m\n\u001b[0m\u001b[1;32m      2\u001b[0m \u001b[0;32mimport\u001b[0m \u001b[0mnumpy\u001b[0m \u001b[0;32mas\u001b[0m \u001b[0mnp\u001b[0m\u001b[0;34m\u001b[0m\u001b[0;34m\u001b[0m\u001b[0m\n\u001b[1;32m      3\u001b[0m \u001b[0;32mfrom\u001b[0m \u001b[0mcopy\u001b[0m \u001b[0;32mimport\u001b[0m \u001b[0mdeepcopy\u001b[0m\u001b[0;34m\u001b[0m\u001b[0;34m\u001b[0m\u001b[0m\n\u001b[1;32m      4\u001b[0m \u001b[0;32mfrom\u001b[0m \u001b[0mscipy\u001b[0m\u001b[0;34m.\u001b[0m\u001b[0mspatial\u001b[0m\u001b[0;34m.\u001b[0m\u001b[0mdistance\u001b[0m \u001b[0;32mimport\u001b[0m \u001b[0mpdist\u001b[0m\u001b[0;34m,\u001b[0m \u001b[0msquareform\u001b[0m\u001b[0;34m\u001b[0m\u001b[0;34m\u001b[0m\u001b[0m\n\u001b[1;32m      5\u001b[0m \u001b[0;32mimport\u001b[0m \u001b[0mmatplotlib\u001b[0m\u001b[0;34m.\u001b[0m\u001b[0mpyplot\u001b[0m \u001b[0;32mas\u001b[0m \u001b[0mplt\u001b[0m\u001b[0;34m\u001b[0m\u001b[0;34m\u001b[0m\u001b[0m\n",
      "\u001b[0;31mModuleNotFoundError\u001b[0m: No module named 'pandas'"
     ]
    }
   ],
   "source": [
    "import pandas as pd\n",
    "import numpy as np\n",
    "from copy import deepcopy\n",
    "from scipy.spatial.distance import pdist, squareform\n",
    "import matplotlib.pyplot as plt"
   ]
  },
  {
   "cell_type": "code",
   "execution_count": null,
   "metadata": {},
   "outputs": [],
   "source": [
    "def compute_prediction(userid, itemid, similarity_mtx, utility):\n",
    "    user_rating = utility.iloc[:,userid-1]\n",
    "    item_similarity = similarity_mtx[itemid-1]\n",
    "    numerate = np.dot(user_rating, item_similarity)\n",
    "    denom = item_similarity[user_rating > 0].sum()\n",
    "            \n",
    "    if denom == 0 or numerate == 0:\n",
    "        return user_rating[user_rating>0].mean()\n",
    "    \n",
    "    return numerate / denom\n",
    "\n",
    "def compute_rmse(test_set, test_real, similarity_mtx, utility, pred_func, **kwargs):\n",
    "    pred = []\n",
    "    for data in test_set:\n",
    "        res = pred_func(userid = data[0], \n",
    "                        itemid = data[1], \n",
    "                        similarity_mtx = similarity_mtx, \n",
    "                        utility = utility, \n",
    "                        **kwargs)\n",
    "        pred.append(res)\n",
    "    rmse = np.sqrt(np.mean((test_real - pred)**2))\n",
    "    return rmse"
   ]
  },
  {
   "cell_type": "code",
   "execution_count": null,
   "metadata": {},
   "outputs": [],
   "source": [
    "train_path = '../data/ml-100k/u1.base'\n",
    "test_path = '../data/ml-100k/u1.test'\n",
    "\n",
    "# load train and test data\n",
    "df = pd.read_csv(train_path, delimiter = '\\t', names = ['userid', 'itemid', 'rating', 'timestamp'])\n",
    "test = pd.read_csv(test_path, delimiter = '\\t', names = ['userid', 'itemid', 'rating', 'timestamp'])\n",
    "test_set = test[['userid', 'itemid']].to_numpy()\n",
    "test_real = test['rating'].to_numpy()\n",
    "\n",
    "# construct the utility matrix\n",
    "utility = df.pivot(index = 'itemid', columns = 'userid', values = 'rating')\n",
    "utility = utility.fillna(0)\n",
    "\n",
    "# calculate the similarity\n",
    "similarity_mtx = 1 - squareform(pdist(utility, 'cosine'))"
   ]
  },
  {
   "cell_type": "code",
   "execution_count": null,
   "metadata": {},
   "outputs": [],
   "source": [
    "compute_rmse(test_set, test_real, similarity_mtx, utility, compute_prediction)"
   ]
  },
  {
   "cell_type": "code",
   "execution_count": null,
   "metadata": {},
   "outputs": [],
   "source": [
    "# take the top n similar items\n",
    "def compute_prediction_v1(userid, itemid, similarity_mtx, utility, top_n):\n",
    "    user_rating = utility.iloc[:,userid-1]\n",
    "    item_similarity = similarity_mtx[itemid-1]\n",
    "    \n",
    "    # we change the data structure to a list of (user, sim) pairs, and then filter out the non_rated pairs\n",
    "    user_sim_pair_list = list(zip(user_rating, item_similarity))\n",
    "    user_sim_pair_list = sorted(filter(lambda x: x[0] != 0 and x[1] != 0, user_sim_pair_list), \n",
    "                                key = lambda x: -x[1])[:top_n]\n",
    "\n",
    "    numerate = sum([x[0] * x[1] for x in user_sim_pair_list])\n",
    "    denom = sum([x[1] for x in user_sim_pair_list])\n",
    "            \n",
    "    if denom == 0 or numerate == 0:\n",
    "        return user_rating[user_rating>0].mean()\n",
    "    \n",
    "    return numerate / denom"
   ]
  },
  {
   "cell_type": "code",
   "execution_count": null,
   "metadata": {},
   "outputs": [],
   "source": [
    "chart_val = []\n",
    "x_val = list(range(10,25))\n",
    "\n",
    "for x in x_val:\n",
    "    rmse = compute_rmse(test_set, test_real, similarity_mtx, utility, compute_prediction_v1, top_n = x)\n",
    "    chart_val.append([x,rmse])\n",
    "\n",
    "chart_val_np = np.array(chart_val)\n",
    "plt.plot(chart_val_np[:, 0], chart_val_np[:,1])"
   ]
  },
  {
   "cell_type": "code",
   "execution_count": null,
   "metadata": {},
   "outputs": [],
   "source": [
    "best_model = min(chart_val, key= lambda x: x[1])\n",
    "print(\"****************\")\n",
    "print(f'best model:')\n",
    "print(f'top_n = {best_model[0]}')\n",
    "print(f'rmse = {best_model[1]}')\n",
    "print(\"****************\")"
   ]
  },
  {
   "cell_type": "markdown",
   "metadata": {},
   "source": [
    "## Case Amplification"
   ]
  },
  {
   "cell_type": "markdown",
   "metadata": {},
   "source": []
  },
  {
   "cell_type": "code",
   "execution_count": null,
   "metadata": {},
   "outputs": [],
   "source": [
    "def compute_prediction_v2(userid, itemid, similarity_mtx, utility, top_n, amp):\n",
    "    user_rating = utility.iloc[:,userid-1]\n",
    "    item_similarity = similarity_mtx[itemid-1]\n",
    "    item_similarity = item_similarity ** amp\n",
    "    \n",
    "    # we change the data structure to a list of (user, sim) pairs, and then filter out the non_rated pairs\n",
    "    user_sim_pair_list = list(zip(user_rating, item_similarity))\n",
    "    user_sim_pair_list = sorted(filter(lambda x: x[0] != 0 and x[1] != 0, user_sim_pair_list), key = lambda x: -x[1])[:top_n]\n",
    "\n",
    "    numerate = sum([x[0] * x[1] for x in user_sim_pair_list])\n",
    "    denom = sum([x[1] for x in user_sim_pair_list])\n",
    "            \n",
    "    if denom == 0 or numerate == 0:\n",
    "        return user_rating[user_rating>0].mean()\n",
    "    \n",
    "    return numerate / denom"
   ]
  },
  {
   "cell_type": "code",
   "execution_count": null,
   "metadata": {},
   "outputs": [],
   "source": [
    "chart_val = []\n",
    "x_val = np.linspace(1,10,19)\n",
    "\n",
    "for x in x_val:\n",
    "    rmse = compute_rmse(test_set, test_real, similarity_mtx, utility, \n",
    "                        compute_prediction_v2, \n",
    "                        top_n = -1,\n",
    "                        amp = x)\n",
    "    chart_val.append([x,rmse])\n",
    "\n",
    "chart_val_np = np.array(chart_val)\n",
    "plt.plot(chart_val_np[:, 0], chart_val_np[:,1])"
   ]
  },
  {
   "cell_type": "code",
   "execution_count": null,
   "metadata": {},
   "outputs": [],
   "source": [
    "best_model = min(chart_val, key= lambda x: x[1])\n",
    "print(\"****************\")\n",
    "print(f'best model:')\n",
    "print(f'amp = {best_model[0]}')\n",
    "print(f'rmse = {best_model[1]}')\n",
    "print(\"****************\")"
   ]
  },
  {
   "cell_type": "markdown",
   "metadata": {},
   "source": [
    "## Default Voting"
   ]
  },
  {
   "cell_type": "markdown",
   "metadata": {},
   "source": []
  },
  {
   "cell_type": "code",
   "execution_count": null,
   "metadata": {},
   "outputs": [],
   "source": [
    "def default_voting_item_amp(df, similarity_mtx, threshold, amp):\n",
    "    new_sim = deepcopy(similarity_mtx)\n",
    "    item_count = item_count = df.groupby('itemid').size().reset_index(name='count').sort_values('count')\n",
    "    amp_item = item_count.loc[item_count['count'] > threshold]['itemid'].to_numpy()\n",
    "    \n",
    "    for item in amp_item:\n",
    "        indx = item - 1\n",
    "        new_sim[:,indx] *= amp\n",
    "        new_sim[indx,:] *= amp\n",
    "    \n",
    "    return new_sim"
   ]
  },
  {
   "cell_type": "code",
   "execution_count": null,
   "metadata": {},
   "outputs": [],
   "source": [
    "item_count = df.groupby('itemid').size().reset_index(name='count').sort_values('count')\n",
    "ax = item_count['count'].hist(bins = 30, figsize = (10,8))\n",
    "ax.set_xlabel('count')\n",
    "ax.set_ylabel('number of items')"
   ]
  },
  {
   "cell_type": "code",
   "execution_count": null,
   "metadata": {},
   "outputs": [],
   "source": [
    "chart_val = []\n",
    "x_val = np.linspace(0.1, 2, 20)\n",
    "threshold = 100\n",
    "\n",
    "for amp in x_val:\n",
    "    new_sim = default_voting_item_amp(df, similarity_mtx, threshold, amp)\n",
    "    rmse = compute_rmse(test_set, test_real, new_sim, utility, compute_prediction)\n",
    "    chart_val.append([amp,rmse])\n",
    "\n",
    "chart_val_np = np.array(chart_val)\n",
    "plt.plot(chart_val_np[:, 0], chart_val_np[:,1])"
   ]
  },
  {
   "cell_type": "code",
   "execution_count": null,
   "metadata": {},
   "outputs": [],
   "source": [
    "best_model = min(chart_val, key= lambda x: x[1])\n",
    "print(\"****************\")\n",
    "print(f'best model:')\n",
    "print(f'amp = {best_model[0]}')\n",
    "print(f'rmse = {best_model[1]}')"
   ]
  }
 ],
 "metadata": {
  "interpreter": {
   "hash": "b0fa6594d8f4cbf19f97940f81e996739fb7646882a419484c72d19e05852a7e"
  },
  "kernelspec": {
   "display_name": "Python 3.9.7 64-bit",
   "language": "python",
   "name": "python3"
  },
  "language_info": {
   "codemirror_mode": {
    "name": "ipython",
    "version": 3
   },
   "file_extension": ".py",
   "mimetype": "text/x-python",
   "name": "python",
   "nbconvert_exporter": "python",
   "pygments_lexer": "ipython3",
   "version": "3.9.7"
  },
  "orig_nbformat": 4
 },
 "nbformat": 4,
 "nbformat_minor": 2
}
